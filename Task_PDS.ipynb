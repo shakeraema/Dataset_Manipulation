{
  "nbformat": 4,
  "nbformat_minor": 0,
  "metadata": {
    "colab": {
      "provenance": [],
      "authorship_tag": "ABX9TyOFbP8Nh2BDC3AEkA3aYuf3",
      "include_colab_link": true
    },
    "kernelspec": {
      "name": "python3",
      "display_name": "Python 3"
    },
    "language_info": {
      "name": "python"
    }
  },
  "cells": [
    {
      "cell_type": "markdown",
      "metadata": {
        "id": "view-in-github",
        "colab_type": "text"
      },
      "source": [
        "<a href=\"https://colab.research.google.com/github/shakeraema/Dataset_Manipulation/blob/main/Task_PDS.ipynb\" target=\"_parent\"><img src=\"https://colab.research.google.com/assets/colab-badge.svg\" alt=\"Open In Colab\"/></a>"
      ]
    },
    {
      "cell_type": "code",
      "execution_count": 1,
      "metadata": {
        "id": "1Q0x_PfNlm81"
      },
      "outputs": [],
      "source": [
        "import pandas as pd\n",
        "import numpy as np"
      ]
    },
    {
      "cell_type": "code",
      "source": [
        "import kagglehub\n",
        "\n",
        "# Download latest version\n",
        "path = kagglehub.dataset_download(\"sukhmandeepsinghbrar/car-price-prediction-dataset\")\n",
        "\n",
        "print(\"Path to dataset files:\", path)"
      ],
      "metadata": {
        "id": "f-DbngSroftQ"
      },
      "execution_count": null,
      "outputs": []
    },
    {
      "cell_type": "code",
      "source": [
        "dataset_url = \"https://raw.githubusercontent.com/sukhmandeepsinghbrar/car-price-prediction-dataset/master/car%20price%20prediction.csv\""
      ],
      "metadata": {
        "id": "pX9Jbgq6nlJD"
      },
      "execution_count": null,
      "outputs": []
    },
    {
      "cell_type": "code",
      "source": [
        "from google.colab import drive\n",
        "drive.mount('/content/drive')"
      ],
      "metadata": {
        "id": "--4MUy9vpNY-"
      },
      "execution_count": null,
      "outputs": []
    },
    {
      "cell_type": "code",
      "source": [
        "data = '/content/drive/MyDrive/PDS-Data/cardekho.csv'\n",
        "\n",
        "df = pd.read_csv(data)"
      ],
      "metadata": {
        "id": "sUk8lv4_pnnY"
      },
      "execution_count": null,
      "outputs": []
    },
    {
      "cell_type": "code",
      "source": [
        "df.head()"
      ],
      "metadata": {
        "id": "R-PCaaRYp-h7"
      },
      "execution_count": null,
      "outputs": []
    },
    {
      "cell_type": "code",
      "source": [
        "df.info()"
      ],
      "metadata": {
        "id": "89MT2YeRBGkZ"
      },
      "execution_count": null,
      "outputs": []
    },
    {
      "cell_type": "code",
      "source": [
        "df.describe()"
      ],
      "metadata": {
        "id": "QIhZdHKaBKAJ"
      },
      "execution_count": null,
      "outputs": []
    },
    {
      "cell_type": "code",
      "source": [
        "df.size"
      ],
      "metadata": {
        "id": "3oTN_fhU1-iI"
      },
      "execution_count": null,
      "outputs": []
    },
    {
      "cell_type": "code",
      "source": [
        "df.shape"
      ],
      "metadata": {
        "id": "hiBgpa_x2wiw"
      },
      "execution_count": null,
      "outputs": []
    },
    {
      "cell_type": "code",
      "source": [
        "import matplotlib.pyplot as plt\n",
        "import seaborn as sns"
      ],
      "metadata": {
        "id": "Opsp1Z5TBTQe"
      },
      "execution_count": null,
      "outputs": []
    },
    {
      "cell_type": "code",
      "source": [
        "plt.figure(figsize=(8, 5))\n",
        "plt.scatter(df['fuel'], df['selling_price'])\n",
        "plt.xlabel('Fuel')\n",
        "plt.ylabel('Selling price')\n",
        "plt.title('Fuel vs. Selling price')"
      ],
      "metadata": {
        "id": "sBZ1lHbVaZED"
      },
      "execution_count": null,
      "outputs": []
    },
    {
      "cell_type": "code",
      "source": [
        "plt.figure(figsize=(8, 5))\n",
        "sns.scatterplot(x=df[\"year\"], y=df[\"selling_price\"], alpha=0.5)\n",
        "plt.xlabel(\"Year\")\n",
        "plt.ylabel(\"Selling Price\")\n",
        "plt.title(\"Price Depreciation Over the Years\")\n",
        "plt.show()"
      ],
      "metadata": {
        "id": "USnB2BUSbSnt"
      },
      "execution_count": null,
      "outputs": []
    },
    {
      "cell_type": "code",
      "source": [
        "plt.figure(figsize=(8, 5))\n",
        "sns.scatterplot(x=df[\"engine\"], y=df[\"selling_price\"], alpha=0.5)\n",
        "plt.xlabel(\"Engine Capacity (CC)\")\n",
        "plt.ylabel(\"Selling Price\")\n",
        "plt.title(\"Impact of Engine Size on Selling Price\")\n",
        "plt.show()"
      ],
      "metadata": {
        "id": "jzqDS4V7byzk"
      },
      "execution_count": null,
      "outputs": []
    },
    {
      "cell_type": "code",
      "source": [
        "plt.figure(figsize=(8, 5))\n",
        "sns.scatterplot(x=df[\"transmission\"], y=df[\"selling_price\"], alpha=0.5)\n",
        "plt.xlabel(\"Transmission\")\n",
        "plt.ylabel(\"Selling Price\")\n",
        "plt.title(\"Transmission(M/A)[M=1, A=0]\")\n",
        "plt.show()"
      ],
      "metadata": {
        "id": "DqfaGDxPcRAb"
      },
      "execution_count": null,
      "outputs": []
    },
    {
      "cell_type": "code",
      "source": [
        "plt.figure(figsize=(8, 5))\n",
        "sns.scatterplot(x=df[\"owner\"], y=df[\"selling_price\"], alpha=0.5)\n",
        "plt.xlabel(\"Owner\")\n",
        "plt.ylabel(\"Selling Price\")\n",
        "plt.title(\"Impact of Owner on Selling Price\")\n",
        "plt.show()"
      ],
      "metadata": {
        "id": "7sPdDS5_c5Ef"
      },
      "execution_count": null,
      "outputs": []
    },
    {
      "cell_type": "code",
      "source": [
        "plt.figure(figsize=(8, 5))\n",
        "sns.scatterplot(x=df[\"year\"], y=df[\"selling_price\"], alpha=0.5)\n",
        "plt.xlabel(\"Year\")\n",
        "plt.ylabel(\"Selling Price\")\n",
        "plt.title(\"Newer car Selling Price\")\n",
        "plt.show()"
      ],
      "metadata": {
        "id": "TEFeSH-ydP8j"
      },
      "execution_count": null,
      "outputs": []
    },
    {
      "cell_type": "code",
      "source": [
        "plt.figure(figsize=(8, 5))\n",
        "sns.scatterplot(x=df[\"mileage(km/ltr/kg)\"], y=df[\"selling_price\"])\n",
        "plt.xlabel(\"Mileage\")\n",
        "plt.ylabel(\"Selling Price\")\n",
        "plt.title(\"Impact of Mileage on Selling Price\")\n",
        "plt.show()"
      ],
      "metadata": {
        "id": "8JtPmNkCBdRH"
      },
      "execution_count": null,
      "outputs": []
    },
    {
      "cell_type": "code",
      "source": [
        "plt.figure(figsize=(8, 5))\n",
        "plt.scatter(df['mileage(km/ltr/kg)'], df['selling_price'], c = df[\"selling_price\"], cmap='viridis')\n",
        "plt.xlabel('Mileage')\n",
        "plt.ylabel('Price')\n",
        "plt.title('Mileage vs. Price')\n",
        "_ = plt.colorbar(label='Selling Price')"
      ],
      "metadata": {
        "id": "Xrsq5-WBdmz1"
      },
      "execution_count": null,
      "outputs": []
    },
    {
      "cell_type": "code",
      "source": [
        "df['fuel'].unique()"
      ],
      "metadata": {
        "id": "DmqKlmBb7c-e"
      },
      "execution_count": null,
      "outputs": []
    },
    {
      "cell_type": "code",
      "source": [
        "len(df['fuel'].unique())"
      ],
      "metadata": {
        "id": "eaNH82ro7HDG"
      },
      "execution_count": null,
      "outputs": []
    },
    {
      "cell_type": "code",
      "source": [
        "df['fuel'] = df['fuel'].map({'Diesel': 0, 'Petrol': 1, 'LPG': 2, 'CNG': 3})"
      ],
      "metadata": {
        "id": "Q4RAUpTP8MaA"
      },
      "execution_count": null,
      "outputs": []
    },
    {
      "cell_type": "code",
      "source": [
        "df['fuel'].unique()"
      ],
      "metadata": {
        "id": "Y_Pro3x98iUs"
      },
      "execution_count": null,
      "outputs": []
    },
    {
      "cell_type": "code",
      "source": [
        "from sklearn.preprocessing import LabelEncoder"
      ],
      "metadata": {
        "id": "qwLV9tgY-dLz"
      },
      "execution_count": null,
      "outputs": []
    },
    {
      "cell_type": "code",
      "source": [
        "le = LabelEncoder()"
      ],
      "metadata": {
        "id": "f34bFWCl-gV-"
      },
      "execution_count": null,
      "outputs": []
    },
    {
      "cell_type": "code",
      "source": [
        "df['seller_type'] = le.fit_transform(df['seller_type'])"
      ],
      "metadata": {
        "id": "sWQeEvtQ-pyL"
      },
      "execution_count": null,
      "outputs": []
    },
    {
      "cell_type": "code",
      "source": [
        "df['seller_type']"
      ],
      "metadata": {
        "id": "wz_lFAsb-4Wb"
      },
      "execution_count": null,
      "outputs": []
    },
    {
      "cell_type": "code",
      "source": [
        "df['seller_type'].unique()"
      ],
      "metadata": {
        "id": "eqvL6wGs_E3o"
      },
      "execution_count": null,
      "outputs": []
    },
    {
      "cell_type": "code",
      "source": [
        "len(df['name'].unique())"
      ],
      "metadata": {
        "id": "3YeXOUtYGF1_"
      },
      "execution_count": null,
      "outputs": []
    },
    {
      "cell_type": "code",
      "source": [
        "columns = ['transmission', 'owner', 'name']"
      ],
      "metadata": {
        "id": "pFL49qVc_xsz"
      },
      "execution_count": null,
      "outputs": []
    },
    {
      "cell_type": "code",
      "source": [
        "for column in columns:\n",
        "    df[column] = le.fit_transform(df[column])"
      ],
      "metadata": {
        "id": "dV0NUoKfAAPi"
      },
      "execution_count": null,
      "outputs": []
    },
    {
      "cell_type": "code",
      "source": [
        "for column in columns:\n",
        "    print(f\"Unique values in {column}:\")\n",
        "    print(df[column].unique())"
      ],
      "metadata": {
        "id": "vumC1o5jAXMR"
      },
      "execution_count": null,
      "outputs": []
    },
    {
      "cell_type": "code",
      "source": [
        "df.head()"
      ],
      "metadata": {
        "id": "aR_CyOtUFjvA"
      },
      "execution_count": null,
      "outputs": []
    },
    {
      "cell_type": "code",
      "source": [
        "df.isnull().sum()"
      ],
      "metadata": {
        "id": "OJGYRRb_uKKF"
      },
      "execution_count": null,
      "outputs": []
    },
    {
      "cell_type": "code",
      "source": [
        "for column in df.select_dtypes(include=np.number).columns:\n",
        "    df[column].fillna(df[column].mean(), inplace=True)"
      ],
      "metadata": {
        "id": "CpNQndKH36-g"
      },
      "execution_count": null,
      "outputs": []
    },
    {
      "cell_type": "code",
      "source": [
        "# df[\"engine\"]= df[\"engine\"].fillna(df[\"engine\"].mean())\n",
        "# df[\"seats\"]= df[\"seats\"].fillna(df[\"seats\"].mean())"
      ],
      "metadata": {
        "id": "Qd8tefdXxjHl"
      },
      "execution_count": null,
      "outputs": []
    },
    {
      "cell_type": "code",
      "source": [
        "df.isnull().sum()"
      ],
      "metadata": {
        "id": "LUT_jKvTzx_U"
      },
      "execution_count": null,
      "outputs": []
    },
    {
      "cell_type": "code",
      "source": [
        "df[\"max_power\"] = pd.to_numeric(df[\"max_power\"], errors='coerce')\n",
        "df[\"max_power\"] = df[\"max_power\"].fillna(0).astype(int)"
      ],
      "metadata": {
        "id": "niKkAD884zZE"
      },
      "execution_count": null,
      "outputs": []
    },
    {
      "cell_type": "code",
      "source": [
        "df.isnull().sum()"
      ],
      "metadata": {
        "id": "X2i3ros25hgb"
      },
      "execution_count": null,
      "outputs": []
    },
    {
      "cell_type": "code",
      "source": [
        "df = df.drop(columns=['name'])"
      ],
      "metadata": {
        "id": "UHEebfvY6Vqi"
      },
      "execution_count": null,
      "outputs": []
    },
    {
      "cell_type": "code",
      "source": [
        "correlation_matrix = df.corr()"
      ],
      "metadata": {
        "id": "-T8JPVnl6IgX"
      },
      "execution_count": null,
      "outputs": []
    },
    {
      "cell_type": "code",
      "source": [
        "plt.figure(figsize=(10, 6))\n",
        "sns.heatmap(correlation_matrix, annot=True, cmap=\"coolwarm\", fmt=\".2f\", linewidths=0.5)\n",
        "plt.title(\"Feature Correlation Heatmap\")\n",
        "plt.show()"
      ],
      "metadata": {
        "id": "MA1jfJse6rpB"
      },
      "execution_count": null,
      "outputs": []
    },
    {
      "cell_type": "code",
      "source": [
        "X = df\n",
        "\n",
        "y = df['selling_price']"
      ],
      "metadata": {
        "id": "Acy1oGms98Kq"
      },
      "execution_count": null,
      "outputs": []
    },
    {
      "cell_type": "code",
      "source": [
        "from sklearn.model_selection import train_test_split\n",
        "X_train, X_test, y_train, y_test = train_test_split(X, y, test_size=0.2, random_state=42)"
      ],
      "metadata": {
        "id": "V_DSVkkrB0aA"
      },
      "execution_count": null,
      "outputs": []
    },
    {
      "cell_type": "code",
      "source": [
        "from sklearn.preprocessing import StandardScaler"
      ],
      "metadata": {
        "id": "cJgfNcS67zMd"
      },
      "execution_count": null,
      "outputs": []
    },
    {
      "cell_type": "code",
      "source": [
        "scaler = StandardScaler()\n",
        "X_train_scaled = scaler.fit_transform(X_train)\n",
        "X_test_scaled = scaler.transform(X_test)"
      ],
      "metadata": {
        "id": "S-US5K-I71pp"
      },
      "execution_count": null,
      "outputs": []
    },
    {
      "cell_type": "code",
      "source": [
        "X_train.shape, y_train.shape, X_test.shape, y_test.shape"
      ],
      "metadata": {
        "id": "4sMp_Ge0DsVC"
      },
      "execution_count": null,
      "outputs": []
    },
    {
      "cell_type": "code",
      "source": [
        "from sklearn.pipeline import Pipeline\n",
        "from sklearn.linear_model import LinearRegression\n",
        "from sklearn.metrics import mean_absolute_error, mean_squared_error, r2_score"
      ],
      "metadata": {
        "id": "nDMhLB_cB8if"
      },
      "execution_count": null,
      "outputs": []
    },
    {
      "cell_type": "code",
      "source": [
        "pipeline = Pipeline([\n",
        "    (\"scaler\", StandardScaler()),\n",
        "    (\"model\", LinearRegression())\n",
        "])"
      ],
      "metadata": {
        "id": "h7tj3qUu8PEL"
      },
      "execution_count": null,
      "outputs": []
    },
    {
      "cell_type": "code",
      "source": [
        "pipeline.fit(X_train, y_train)"
      ],
      "metadata": {
        "id": "m1x38hsU8VuN"
      },
      "execution_count": null,
      "outputs": []
    },
    {
      "cell_type": "code",
      "source": [
        "y_predict = pipeline.predict(X_test)"
      ],
      "metadata": {
        "id": "GjfK3dTM-NUH"
      },
      "execution_count": null,
      "outputs": []
    },
    {
      "cell_type": "code",
      "source": [
        "plt.figure(figsize=(6, 4))\n",
        "plt.scatter(y_test, y_predict, marker=\"o\")\n",
        "plt.xlabel(\"Actual Prices\")\n",
        "plt.ylabel(\"Predicted Prices\")\n",
        "plt.title(\"Actual vs. Predicted Prices\")\n",
        "plt.show()"
      ],
      "metadata": {
        "id": "_40CgRjZ9qCF"
      },
      "execution_count": null,
      "outputs": []
    },
    {
      "cell_type": "code",
      "source": [
        "y_test[:5]"
      ],
      "metadata": {
        "id": "eQe2B_3l-UvW"
      },
      "execution_count": null,
      "outputs": []
    },
    {
      "cell_type": "code",
      "source": [
        "mae = mean_absolute_error(y_test, y_predict)\n",
        "mse = mean_squared_error(y_test, y_predict)\n",
        "r2 = r2_score(y_test, y_predict)\n",
        "\n",
        "print(f\"Mean Absolute Error: {mae}\")\n",
        "print(f\"Mean Squared Error: {mse}\")\n",
        "print(f\"R2 Score: {r2}\")"
      ],
      "metadata": {
        "id": "BXPYJhQT8Zuc"
      },
      "execution_count": null,
      "outputs": []
    },
    {
      "cell_type": "code",
      "source": [
        "num_features = X_train.shape[1]"
      ],
      "metadata": {
        "id": "E-SgLjLcnYgS"
      },
      "execution_count": null,
      "outputs": []
    },
    {
      "cell_type": "code",
      "source": [
        "Xfit = np.zeros((50, num_features))"
      ],
      "metadata": {
        "id": "-G9f0D9enjcO"
      },
      "execution_count": null,
      "outputs": []
    },
    {
      "cell_type": "code",
      "source": [
        "for i in range(num_features):\n",
        "    Xfit[:, i] = np.linspace(-1, 11, 50)"
      ],
      "metadata": {
        "id": "nvF_faT0muD4"
      },
      "execution_count": null,
      "outputs": []
    },
    {
      "cell_type": "code",
      "source": [
        "yfit = pipeline.predict(Xfit)"
      ],
      "metadata": {
        "id": "GYCuDiFkm2JK"
      },
      "execution_count": null,
      "outputs": []
    },
    {
      "cell_type": "code",
      "source": [
        "y_test[:5]"
      ],
      "metadata": {
        "id": "qxnAYvCIpn7D"
      },
      "execution_count": null,
      "outputs": []
    },
    {
      "cell_type": "code",
      "source": [
        "x = df['mileage(km/ltr/kg)']"
      ],
      "metadata": {
        "id": "4kIPE-v6At21"
      },
      "execution_count": null,
      "outputs": []
    },
    {
      "cell_type": "code",
      "source": [
        "plt.figure(figsize=(8, 5))\n",
        "plt.scatter(x, y, color='blue', alpha=0.5, label=\"Actual Prices\")\n",
        "plt.plot(xfit, yfit, color='red', linewidth=2, label=\"Fitted Line\")\n",
        "plt.xlabel(\"Year\")\n",
        "plt.ylabel(\"Selling Price\")\n",
        "plt.title(\"Car Price Prediction using Linear Regression\")\n",
        "plt.legend()\n",
        "plt.show()"
      ],
      "metadata": {
        "id": "1OikzsfApvv8"
      },
      "execution_count": null,
      "outputs": []
    }
  ]
}